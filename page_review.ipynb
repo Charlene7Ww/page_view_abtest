{
 "cells": [
  {
   "cell_type": "markdown",
   "id": "7807d892",
   "metadata": {},
   "source": [
    "# Business Context\n",
    "\n",
    "## Company Background:\n",
    "You work as a Data Analyst at a mid-sized e-commerce company that sells home and lifestyle products online.\n",
    "\n",
    "\n",
    "The marketing team recently redesigned the product detail page (PDP) to improve user engagement and purchase conversion.\n",
    "\n",
    "## 🎯 Experiment Goal:\n",
    "\n",
    "The goal of the A/B test was to determine whether the new product page design (Group B) leads to higher conversion rates than the current design (Group A).\n",
    "\n",
    "## 🧩 Experiment Setup\n",
    "\n",
    "Group A: Control — existing product page (traditional layout, minimal product information).\n",
    "\n",
    "Group B: Treatment — new layout with larger product images, customer reviews near the top, and AI-powered product recommendations.\n",
    "\n",
    "Randomization Unit: Individual users (based on User ID).\n",
    "\n",
    "Duration: Two weeks.\n",
    "\n",
    "Metrics:\n",
    "\n",
    "- Primary metric: Conversion — whether a user made a purchase during their session (Yes/No).\n",
    "\n",
    "Secondary metrics:\n",
    "\n",
    "- Page Views: number of pages viewed during the session (proxy for engagement)\n",
    "\n",
    "- Time Spent: time spent on site (in seconds)\n",
    "\n",
    "Segments (for deeper analysis):\n",
    "\n",
    "- Device: Mobile vs Desktop\n",
    "\n",
    "- Location: geographic segmentation across the UK (England, Scotland, Wales, Northern Ireland)"
   ]
  },
  {
   "cell_type": "markdown",
   "id": "e2e845bb",
   "metadata": {
    "vscode": {
     "languageId": "plaintext"
    }
   },
   "source": [
    "## 1. Data cleaning and processing"
   ]
  },
  {
   "cell_type": "code",
   "execution_count": 1,
   "id": "29d7be59",
   "metadata": {},
   "outputs": [
    {
     "name": "stdout",
     "output_type": "stream",
     "text": [
      "<class 'pandas.core.frame.DataFrame'>\n",
      "RangeIndex: 5000 entries, 0 to 4999\n",
      "Data columns (total 7 columns):\n",
      " #   Column      Non-Null Count  Dtype \n",
      "---  ------      --------------  ----- \n",
      " 0   User ID     5000 non-null   int64 \n",
      " 1   Group       5000 non-null   object\n",
      " 2   Page Views  5000 non-null   int64 \n",
      " 3   Time Spent  5000 non-null   int64 \n",
      " 4   Conversion  5000 non-null   object\n",
      " 5   Device      5000 non-null   object\n",
      " 6   Location    5000 non-null   object\n",
      "dtypes: int64(3), object(4)\n",
      "memory usage: 273.6+ KB\n",
      "None\n"
     ]
    },
    {
     "data": {
      "text/html": [
       "<div>\n",
       "<style scoped>\n",
       "    .dataframe tbody tr th:only-of-type {\n",
       "        vertical-align: middle;\n",
       "    }\n",
       "\n",
       "    .dataframe tbody tr th {\n",
       "        vertical-align: top;\n",
       "    }\n",
       "\n",
       "    .dataframe thead th {\n",
       "        text-align: right;\n",
       "    }\n",
       "</style>\n",
       "<table border=\"1\" class=\"dataframe\">\n",
       "  <thead>\n",
       "    <tr style=\"text-align: right;\">\n",
       "      <th></th>\n",
       "      <th>user_id</th>\n",
       "      <th>group</th>\n",
       "      <th>page_views</th>\n",
       "      <th>time_spent</th>\n",
       "      <th>conversion</th>\n",
       "      <th>device</th>\n",
       "      <th>location</th>\n",
       "    </tr>\n",
       "  </thead>\n",
       "  <tbody>\n",
       "    <tr>\n",
       "      <th>0</th>\n",
       "      <td>14292</td>\n",
       "      <td>B</td>\n",
       "      <td>3</td>\n",
       "      <td>424</td>\n",
       "      <td>No</td>\n",
       "      <td>Mobile</td>\n",
       "      <td>Northern Ireland</td>\n",
       "    </tr>\n",
       "    <tr>\n",
       "      <th>1</th>\n",
       "      <td>11682</td>\n",
       "      <td>A</td>\n",
       "      <td>9</td>\n",
       "      <td>342</td>\n",
       "      <td>No</td>\n",
       "      <td>Mobile</td>\n",
       "      <td>Scotland</td>\n",
       "    </tr>\n",
       "    <tr>\n",
       "      <th>2</th>\n",
       "      <td>19825</td>\n",
       "      <td>A</td>\n",
       "      <td>2</td>\n",
       "      <td>396</td>\n",
       "      <td>No</td>\n",
       "      <td>Desktop</td>\n",
       "      <td>Northern Ireland</td>\n",
       "    </tr>\n",
       "    <tr>\n",
       "      <th>3</th>\n",
       "      <td>16080</td>\n",
       "      <td>B</td>\n",
       "      <td>4</td>\n",
       "      <td>318</td>\n",
       "      <td>No</td>\n",
       "      <td>Desktop</td>\n",
       "      <td>Wales</td>\n",
       "    </tr>\n",
       "    <tr>\n",
       "      <th>4</th>\n",
       "      <td>18851</td>\n",
       "      <td>A</td>\n",
       "      <td>1</td>\n",
       "      <td>338</td>\n",
       "      <td>Yes</td>\n",
       "      <td>Desktop</td>\n",
       "      <td>Scotland</td>\n",
       "    </tr>\n",
       "  </tbody>\n",
       "</table>\n",
       "</div>"
      ],
      "text/plain": [
       "   user_id group  page_views  time_spent conversion   device          location\n",
       "0    14292     B           3         424         No   Mobile  Northern Ireland\n",
       "1    11682     A           9         342         No   Mobile          Scotland\n",
       "2    19825     A           2         396         No  Desktop  Northern Ireland\n",
       "3    16080     B           4         318         No  Desktop             Wales\n",
       "4    18851     A           1         338        Yes  Desktop          Scotland"
      ]
     },
     "execution_count": 1,
     "metadata": {},
     "output_type": "execute_result"
    }
   ],
   "source": [
    "import pandas as pd\n",
    "\n",
    "df = pd.read_csv('ab_testing.csv')\n",
    "print(df.info() )\n",
    "df.columns = df.columns.str.lower().str.replace(' ', '_')\n",
    "df.head()\n"
   ]
  },
  {
   "cell_type": "markdown",
   "id": "da0a759c",
   "metadata": {},
   "source": [
    "## 1.1 check duplicate rows and convert \"conversion\" col"
   ]
  },
  {
   "cell_type": "code",
   "execution_count": 2,
   "id": "34e95a70",
   "metadata": {},
   "outputs": [
    {
     "data": {
      "text/plain": [
       "0"
      ]
     },
     "execution_count": 2,
     "metadata": {},
     "output_type": "execute_result"
    }
   ],
   "source": [
    "df.duplicated(subset='user_id').sum()\n"
   ]
  },
  {
   "cell_type": "code",
   "execution_count": 3,
   "id": "e0e6c9ef",
   "metadata": {},
   "outputs": [
    {
     "data": {
      "text/html": [
       "<div>\n",
       "<style scoped>\n",
       "    .dataframe tbody tr th:only-of-type {\n",
       "        vertical-align: middle;\n",
       "    }\n",
       "\n",
       "    .dataframe tbody tr th {\n",
       "        vertical-align: top;\n",
       "    }\n",
       "\n",
       "    .dataframe thead th {\n",
       "        text-align: right;\n",
       "    }\n",
       "</style>\n",
       "<table border=\"1\" class=\"dataframe\">\n",
       "  <thead>\n",
       "    <tr style=\"text-align: right;\">\n",
       "      <th></th>\n",
       "      <th>user_id</th>\n",
       "      <th>group</th>\n",
       "      <th>page_views</th>\n",
       "      <th>time_spent</th>\n",
       "      <th>conversion</th>\n",
       "      <th>device</th>\n",
       "      <th>location</th>\n",
       "    </tr>\n",
       "  </thead>\n",
       "  <tbody>\n",
       "    <tr>\n",
       "      <th>0</th>\n",
       "      <td>14292</td>\n",
       "      <td>B</td>\n",
       "      <td>3</td>\n",
       "      <td>424</td>\n",
       "      <td>0</td>\n",
       "      <td>Mobile</td>\n",
       "      <td>Northern Ireland</td>\n",
       "    </tr>\n",
       "    <tr>\n",
       "      <th>1</th>\n",
       "      <td>11682</td>\n",
       "      <td>A</td>\n",
       "      <td>9</td>\n",
       "      <td>342</td>\n",
       "      <td>0</td>\n",
       "      <td>Mobile</td>\n",
       "      <td>Scotland</td>\n",
       "    </tr>\n",
       "    <tr>\n",
       "      <th>2</th>\n",
       "      <td>19825</td>\n",
       "      <td>A</td>\n",
       "      <td>2</td>\n",
       "      <td>396</td>\n",
       "      <td>0</td>\n",
       "      <td>Desktop</td>\n",
       "      <td>Northern Ireland</td>\n",
       "    </tr>\n",
       "    <tr>\n",
       "      <th>3</th>\n",
       "      <td>16080</td>\n",
       "      <td>B</td>\n",
       "      <td>4</td>\n",
       "      <td>318</td>\n",
       "      <td>0</td>\n",
       "      <td>Desktop</td>\n",
       "      <td>Wales</td>\n",
       "    </tr>\n",
       "    <tr>\n",
       "      <th>4</th>\n",
       "      <td>18851</td>\n",
       "      <td>A</td>\n",
       "      <td>1</td>\n",
       "      <td>338</td>\n",
       "      <td>1</td>\n",
       "      <td>Desktop</td>\n",
       "      <td>Scotland</td>\n",
       "    </tr>\n",
       "  </tbody>\n",
       "</table>\n",
       "</div>"
      ],
      "text/plain": [
       "   user_id group  page_views  time_spent  conversion   device  \\\n",
       "0    14292     B           3         424           0   Mobile   \n",
       "1    11682     A           9         342           0   Mobile   \n",
       "2    19825     A           2         396           0  Desktop   \n",
       "3    16080     B           4         318           0  Desktop   \n",
       "4    18851     A           1         338           1  Desktop   \n",
       "\n",
       "           location  \n",
       "0  Northern Ireland  \n",
       "1          Scotland  \n",
       "2  Northern Ireland  \n",
       "3             Wales  \n",
       "4          Scotland  "
      ]
     },
     "execution_count": 3,
     "metadata": {},
     "output_type": "execute_result"
    }
   ],
   "source": [
    "df['conversion'] = df['conversion'].map({'Yes': 1, 'No': 0})\n",
    "df.head()"
   ]
  },
  {
   "cell_type": "markdown",
   "id": "0c812f06",
   "metadata": {},
   "source": [
    "## 1.2 Check SRM"
   ]
  },
  {
   "cell_type": "code",
   "execution_count": 4,
   "id": "223ce7c4",
   "metadata": {},
   "outputs": [
    {
     "data": {
      "text/plain": [
       "group\n",
       "A    0.5038\n",
       "B    0.4962\n",
       "Name: proportion, dtype: float64"
      ]
     },
     "execution_count": 4,
     "metadata": {},
     "output_type": "execute_result"
    }
   ],
   "source": [
    "df['group'].value_counts(normalize=True)"
   ]
  },
  {
   "cell_type": "markdown",
   "id": "a6c2d9f3",
   "metadata": {},
   "source": [
    "## 1.3 Check metrics "
   ]
  },
  {
   "cell_type": "code",
   "execution_count": 5,
   "id": "cb98a92e",
   "metadata": {},
   "outputs": [
    {
     "name": "stdout",
     "output_type": "stream",
     "text": [
      "  group  page_views  time_spent  conversion\n",
      "0     A    7.581580  241.733227    0.053990\n",
      "1     B    7.492946  243.303910    0.140669\n"
     ]
    }
   ],
   "source": [
    "df_metrics = df.groupby(['group'])[['page_views', 'time_spent', 'conversion']].mean().reset_index()\n",
    "print( df_metrics)"
   ]
  },
  {
   "cell_type": "markdown",
   "id": "04aea3ad",
   "metadata": {},
   "source": [
    "# 2. Statistical Testing\n",
    "## 2.1 Conversion \n",
    "### Z test & P value"
   ]
  },
  {
   "cell_type": "code",
   "execution_count": 6,
   "id": "733ccdc4",
   "metadata": {},
   "outputs": [
    {
     "name": "stdout",
     "output_type": "stream",
     "text": [
      "z = 10.00221, p = 0.00000\n"
     ]
    }
   ],
   "source": [
    "import statsmodels.api as sm\n",
    "\n",
    "convert_A = df.query('group == \"A\"')['conversion'].sum()\n",
    "convert_B = df.query('group == \"B\"')['conversion'].sum()\n",
    "n_A = df.query('group == \"A\"')['user_id'].count()\n",
    "n_B = df.query('group == \"B\"')['user_id'].count()\n",
    "\n",
    "z_score, p_value = sm.stats.proportions_ztest([convert_B, convert_A],\n",
    "                                              [n_A, n_B])\n",
    "print('z = %.5f, p = %.5f' % (z_score, p_value))"
   ]
  },
  {
   "cell_type": "markdown",
   "id": "df38b078",
   "metadata": {},
   "source": [
    "### Confidence Interval"
   ]
  },
  {
   "cell_type": "code",
   "execution_count": 7,
   "id": "d28beec2",
   "metadata": {},
   "outputs": [
    {
     "name": "stdout",
     "output_type": "stream",
     "text": [
      "95% Confidence Interval for Conversion Rate of Group B: (12.70%, 15.43%)\n"
     ]
    }
   ],
   "source": [
    "import statsmodels.api as sm\n",
    "ci_low, ci_upp = sm.stats.proportion_confint(count=convert_B, nobs=n_B, method='normal')\n",
    "print(f\"95% Confidence Interval for Conversion Rate of Group B: ({ci_low * 100:.2f}%, {ci_upp * 100:.2f}%)\")"
   ]
  },
  {
   "cell_type": "markdown",
   "id": "6ba5bdc8",
   "metadata": {},
   "source": [
    "## 2.2 time_spent"
   ]
  },
  {
   "cell_type": "code",
   "execution_count": 8,
   "id": "f8a84634",
   "metadata": {},
   "outputs": [
    {
     "name": "stdout",
     "output_type": "stream",
     "text": [
      "z = 0.46949, p = 0.63874\n"
     ]
    }
   ],
   "source": [
    "from scipy import stats\n",
    "\n",
    "time_spent_A = df.query('group == \"A\"')['time_spent']\n",
    "time_spent_B = df.query('group == \"B\"')['time_spent'] \n",
    "\n",
    "z_score, p_value = stats.ttest_ind(time_spent_B, time_spent_A, equal_var=False)\n",
    "print('z = %.5f, p = %.5f' % (z_score, p_value))"
   ]
  },
  {
   "cell_type": "markdown",
   "id": "84445b84",
   "metadata": {},
   "source": [
    "## 2.3 page_views"
   ]
  },
  {
   "cell_type": "code",
   "execution_count": 9,
   "id": "64feb422",
   "metadata": {},
   "outputs": [
    {
     "name": "stdout",
     "output_type": "stream",
     "text": [
      "z = -0.77916, p = 0.43592\n"
     ]
    }
   ],
   "source": [
    "from scipy import stats\n",
    "\n",
    "page_views_A = df.query('group == \"A\"')['page_views']\n",
    "page_views_B = df.query('group == \"B\"')['page_views'] \n",
    "\n",
    "z_score, p_value = stats.ttest_ind(page_views_B, page_views_A, equal_var=False)\n",
    "print('z = %.5f, p = %.5f' % (z_score, p_value))"
   ]
  },
  {
   "cell_type": "markdown",
   "id": "61dd8573",
   "metadata": {},
   "source": [
    "# 3. Effect Size & Business Impact\n",
    "## 3.1 Effect Size"
   ]
  },
  {
   "cell_type": "code",
   "execution_count": 10,
   "id": "e477663e",
   "metadata": {},
   "outputs": [
    {
     "name": "stdout",
     "output_type": "stream",
     "text": [
      "Relative lift: 156.62%\n"
     ]
    }
   ],
   "source": [
    "lift = (convert_B - convert_A) / convert_A\n",
    "print(f\"Relative lift: {lift:.2%}\")"
   ]
  },
  {
   "cell_type": "markdown",
   "id": "5269f61f",
   "metadata": {},
   "source": [
    "## 3.2 Segments analysis"
   ]
  },
  {
   "cell_type": "code",
   "execution_count": 11,
   "id": "01dc07ed",
   "metadata": {},
   "outputs": [
    {
     "data": {
      "text/html": [
       "<div>\n",
       "<style scoped>\n",
       "    .dataframe tbody tr th:only-of-type {\n",
       "        vertical-align: middle;\n",
       "    }\n",
       "\n",
       "    .dataframe tbody tr th {\n",
       "        vertical-align: top;\n",
       "    }\n",
       "\n",
       "    .dataframe thead th {\n",
       "        text-align: right;\n",
       "    }\n",
       "</style>\n",
       "<table border=\"1\" class=\"dataframe\">\n",
       "  <thead>\n",
       "    <tr style=\"text-align: right;\">\n",
       "      <th>group</th>\n",
       "      <th>A</th>\n",
       "      <th>B</th>\n",
       "      <th>lift%</th>\n",
       "    </tr>\n",
       "    <tr>\n",
       "      <th>device</th>\n",
       "      <th></th>\n",
       "      <th></th>\n",
       "      <th></th>\n",
       "    </tr>\n",
       "  </thead>\n",
       "  <tbody>\n",
       "    <tr>\n",
       "      <th>Desktop</th>\n",
       "      <td>0.058682</td>\n",
       "      <td>0.139104</td>\n",
       "      <td>137.047702</td>\n",
       "    </tr>\n",
       "    <tr>\n",
       "      <th>Mobile</th>\n",
       "      <td>0.049412</td>\n",
       "      <td>0.142376</td>\n",
       "      <td>188.141373</td>\n",
       "    </tr>\n",
       "  </tbody>\n",
       "</table>\n",
       "</div>"
      ],
      "text/plain": [
       "group           A         B       lift%\n",
       "device                                 \n",
       "Desktop  0.058682  0.139104  137.047702\n",
       "Mobile   0.049412  0.142376  188.141373"
      ]
     },
     "execution_count": 11,
     "metadata": {},
     "output_type": "execute_result"
    }
   ],
   "source": [
    "df_metrics_byDevice = df.groupby(['device','group'])[['conversion']].mean().reset_index()\n",
    "df_byDevice = df_metrics_byDevice.pivot(index='device', columns='group', values='conversion')\n",
    "df_byDevice['lift%'] = (df_byDevice['B'] - df_byDevice['A']) / df_byDevice['A'] * 100\n",
    "df_byDevice\n"
   ]
  },
  {
   "cell_type": "code",
   "execution_count": 12,
   "id": "e0c2162b",
   "metadata": {},
   "outputs": [
    {
     "data": {
      "text/html": [
       "<div>\n",
       "<style scoped>\n",
       "    .dataframe tbody tr th:only-of-type {\n",
       "        vertical-align: middle;\n",
       "    }\n",
       "\n",
       "    .dataframe tbody tr th {\n",
       "        vertical-align: top;\n",
       "    }\n",
       "\n",
       "    .dataframe thead th {\n",
       "        text-align: right;\n",
       "    }\n",
       "</style>\n",
       "<table border=\"1\" class=\"dataframe\">\n",
       "  <thead>\n",
       "    <tr style=\"text-align: right;\">\n",
       "      <th>group</th>\n",
       "      <th>A</th>\n",
       "      <th>B</th>\n",
       "      <th>lift%</th>\n",
       "    </tr>\n",
       "    <tr>\n",
       "      <th>location</th>\n",
       "      <th></th>\n",
       "      <th></th>\n",
       "      <th></th>\n",
       "    </tr>\n",
       "  </thead>\n",
       "  <tbody>\n",
       "    <tr>\n",
       "      <th>England</th>\n",
       "      <td>0.069307</td>\n",
       "      <td>0.146875</td>\n",
       "      <td>111.919643</td>\n",
       "    </tr>\n",
       "    <tr>\n",
       "      <th>Northern Ireland</th>\n",
       "      <td>0.050489</td>\n",
       "      <td>0.114650</td>\n",
       "      <td>127.080337</td>\n",
       "    </tr>\n",
       "    <tr>\n",
       "      <th>Scotland</th>\n",
       "      <td>0.049254</td>\n",
       "      <td>0.150573</td>\n",
       "      <td>205.708476</td>\n",
       "    </tr>\n",
       "    <tr>\n",
       "      <th>Wales</th>\n",
       "      <td>0.047695</td>\n",
       "      <td>0.151163</td>\n",
       "      <td>216.937984</td>\n",
       "    </tr>\n",
       "  </tbody>\n",
       "</table>\n",
       "</div>"
      ],
      "text/plain": [
       "group                    A         B       lift%\n",
       "location                                        \n",
       "England           0.069307  0.146875  111.919643\n",
       "Northern Ireland  0.050489  0.114650  127.080337\n",
       "Scotland          0.049254  0.150573  205.708476\n",
       "Wales             0.047695  0.151163  216.937984"
      ]
     },
     "execution_count": 12,
     "metadata": {},
     "output_type": "execute_result"
    }
   ],
   "source": [
    "df_metrics_byLoc = df.groupby(['location','group'])[['conversion']].mean().reset_index()\n",
    "df_byLoc = df_metrics_byLoc.pivot(index='location', columns='group', values='conversion')\n",
    "df_byLoc['lift%'] = (df_byLoc['B'] - df_byLoc['A']) / df_byLoc['A'] * 100\n",
    "df_byLoc   "
   ]
  },
  {
   "cell_type": "markdown",
   "id": "ad3f2c4d",
   "metadata": {},
   "source": [
    "# 4. Visualization \n",
    "## 4.1 Overall Conversion Comparison"
   ]
  },
  {
   "cell_type": "code",
   "execution_count": 13,
   "id": "70ed8301",
   "metadata": {},
   "outputs": [
    {
     "data": {
      "image/png": "[encoded data removed]",
      "text/plain": [
       "<Figure size 432x288 with 1 Axes>"
      ]
     },
     "metadata": {
      "needs_background": "light"
     },
     "output_type": "display_data"
    }
   ],
   "source": [
    "import matplotlib.pyplot as plt\n",
    "\n",
    "conv = df.groupby('group')['conversion'].mean()\n",
    "plt.bar(conv.index, conv.values *100, color=['#6fa8dc', '#f6b26b'])\n",
    "plt.title('Overall Conversion Rate by Group')\n",
    "plt.ylabel('Conversion Rate')\n",
    "plt.show()\n"
   ]
  },
  {
   "cell_type": "markdown",
   "id": "5f4c4de2",
   "metadata": {},
   "source": [
    "## 4.2 Conversion Lift by Device"
   ]
  },
  {
   "cell_type": "code",
   "execution_count": 14,
   "id": "081d182a",
   "metadata": {},
   "outputs": [
    {
     "data": {
      "image/png": "[encoded data removed]",
      "text/plain": [
       "<Figure size 432x288 with 1 Axes>"
      ]
     },
     "metadata": {
      "needs_background": "light"
     },
     "output_type": "display_data"
    }
   ],
   "source": [
    "plt.bar(df_byDevice.index, df_byDevice['lift%'], color='#93c47d')\n",
    "plt.title('Conversion Lift by Device')\n",
    "plt.ylabel('Lift (%)')\n",
    "plt.xlabel('Device')\n",
    "plt.show()"
   ]
  },
  {
   "cell_type": "markdown",
   "id": "2c27e323",
   "metadata": {},
   "source": [
    "## 4.3 Conversion Lift by Location"
   ]
  },
  {
   "cell_type": "code",
   "execution_count": 15,
   "id": "ac17077e",
   "metadata": {},
   "outputs": [
    {
     "data": {
      "image/png": "[encoded data removed]",
      "text/plain": [
       "<Figure size 432x288 with 1 Axes>"
      ]
     },
     "metadata": {
      "needs_background": "light"
     },
     "output_type": "display_data"
    }
   ],
   "source": [
    "plt.bar(df_byLoc.index, df_byLoc['lift%'], color='#6d9eeb')\n",
    "plt.title('Conversion Lift by Location')\n",
    "plt.ylabel('Lift (%)')\n",
    "plt.xlabel('Location')\n",
    "plt.xticks(rotation=30)\n",
    "plt.show()\n"
   ]
  },
  {
   "cell_type": "markdown",
   "id": "6179355a",
   "metadata": {},
   "source": [
    "## 4.4 time spent & page views"
   ]
  },
  {
   "cell_type": "code",
   "execution_count": 16,
   "id": "7fb93e5c",
   "metadata": {},
   "outputs": [
    {
     "data": {
      "image/png": "[encoded data removed]",
      "text/plain": [
       "<Figure size 432x288 with 1 Axes>"
      ]
     },
     "metadata": {
      "needs_background": "light"
     },
     "output_type": "display_data"
    },
    {
     "data": {
      "image/png": "[encoded data removed]",
      "text/plain": [
       "<Figure size 432x288 with 1 Axes>"
      ]
     },
     "metadata": {
      "needs_background": "light"
     },
     "output_type": "display_data"
    }
   ],
   "source": [
    "metrics = {\n",
    "    'Time Spent': [df.query('group==\"A\"')['time_spent'].mean(),\n",
    "                   df.query('group==\"B\"')['time_spent'].mean()],\n",
    "    'Page Views': [df.query('group==\"A\"')['page_views'].mean(),\n",
    "                   df.query('group==\"B\"')['page_views'].mean()]\n",
    "}\n",
    "\n",
    "plt.bar(['Time Spent - A','Time Spent - B'], metrics['Time Spent'], color='#ffd966')\n",
    "plt.title('Avg Time Spent by Group')\n",
    "plt.show()\n",
    "\n",
    "plt.bar(['Page Views - A','Page Views - B'], metrics['Page Views'], color='#f9cb9c')\n",
    "plt.title('Avg Page Views by Group')\n",
    "plt.show()\n"
   ]
  },
  {
   "cell_type": "markdown",
   "id": "399b9759",
   "metadata": {},
   "source": [
    "## 4.5 Conversion Lift Heatmap"
   ]
  },
  {
   "cell_type": "code",
   "execution_count": 17,
   "id": "08ca968e",
   "metadata": {},
   "outputs": [
    {
     "data": {
      "image/png": "[encoded data removed]",
      "text/plain": [
       "<Figure size 576x288 with 2 Axes>"
      ]
     },
     "metadata": {
      "needs_background": "light"
     },
     "output_type": "display_data"
    }
   ],
   "source": [
    "import pandas as pd\n",
    "import seaborn as sns\n",
    "import matplotlib.pyplot as plt\n",
    "\n",
    "# 计算每个 device × location × group 的平均 conversion\n",
    "df_seg = df.groupby(['device', 'location', 'group'])['conversion'].mean().reset_index()\n",
    "\n",
    "# pivot 成 3D → 每个 device/location 对应 A、B 两列\n",
    "df_pivot = df_seg.pivot_table(index=['device', 'location'], columns='group', values='conversion').reset_index()\n",
    "\n",
    "# 计算 uplift\n",
    "df_pivot['lift%'] = (df_pivot['B'] - df_pivot['A']) / df_pivot['A'] * 100\n",
    "\n",
    "# 再 pivot 一次，让 heatmap 按 location 在 x 轴、device 在 y 轴\n",
    "heatmap_data = df_pivot.pivot(index='device', columns='location', values='lift%')\n",
    "\n",
    "# 画图\n",
    "plt.figure(figsize=(8,4))\n",
    "sns.heatmap(heatmap_data, annot=True, fmt=\".1f\", cmap=\"YlGnBu\")\n",
    "plt.title(\"Conversion Lift (%) by Device and Location\")\n",
    "plt.ylabel(\"Device\")\n",
    "plt.xlabel(\"Location\")\n",
    "plt.show()\n",
    "\n"
   ]
  },
  {
   "cell_type": "code",
   "execution_count": null,
   "id": "39e641fc",
   "metadata": {},
   "outputs": [],
   "source": []
  }
 ],
 "metadata": {
  "kernelspec": {
   "display_name": "base",
   "language": "python",
   "name": "python3"
  },
  "language_info": {
   "codemirror_mode": {
    "name": "ipython",
    "version": 3
   },
   "file_extension": ".py",
   "mimetype": "text/x-python",
   "name": "python",
   "nbconvert_exporter": "python",
   "pygments_lexer": "ipython3",
   "version": "3.9.7"
  }
 },
 "nbformat": 4,
 "nbformat_minor": 5
}
